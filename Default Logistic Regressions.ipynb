{
 "cells": [
  {
   "cell_type": "code",
   "execution_count": 1,
   "id": "a3fa8807",
   "metadata": {},
   "outputs": [],
   "source": [
    "import numpy as np\n",
    "import pandas as pd\n",
    "import matplotlib.pyplot as plt\n",
    "import seaborn as sns\n",
    "color = sns.color_palette()\n",
    "import warnings\n",
    "warnings.filterwarnings('ignore')"
   ]
  },
  {
   "cell_type": "code",
   "execution_count": 2,
   "id": "254c9c83",
   "metadata": {},
   "outputs": [],
   "source": [
    "default = pd.read_csv(r'D:\\Simplilearn all projects\\Data\\default.csv')"
   ]
  },
  {
   "cell_type": "code",
   "execution_count": 3,
   "id": "9bf1007a",
   "metadata": {},
   "outputs": [
    {
     "data": {
      "text/html": [
       "<div>\n",
       "<style scoped>\n",
       "    .dataframe tbody tr th:only-of-type {\n",
       "        vertical-align: middle;\n",
       "    }\n",
       "\n",
       "    .dataframe tbody tr th {\n",
       "        vertical-align: top;\n",
       "    }\n",
       "\n",
       "    .dataframe thead th {\n",
       "        text-align: right;\n",
       "    }\n",
       "</style>\n",
       "<table border=\"1\" class=\"dataframe\">\n",
       "  <thead>\n",
       "    <tr style=\"text-align: right;\">\n",
       "      <th></th>\n",
       "      <th>Index</th>\n",
       "      <th>Employed</th>\n",
       "      <th>Bank Balance</th>\n",
       "      <th>Annual Salary</th>\n",
       "      <th>Defaulted?</th>\n",
       "    </tr>\n",
       "  </thead>\n",
       "  <tbody>\n",
       "    <tr>\n",
       "      <th>0</th>\n",
       "      <td>1</td>\n",
       "      <td>1</td>\n",
       "      <td>8754.36</td>\n",
       "      <td>532339.56</td>\n",
       "      <td>0</td>\n",
       "    </tr>\n",
       "    <tr>\n",
       "      <th>1</th>\n",
       "      <td>2</td>\n",
       "      <td>0</td>\n",
       "      <td>9806.16</td>\n",
       "      <td>145273.56</td>\n",
       "      <td>0</td>\n",
       "    </tr>\n",
       "    <tr>\n",
       "      <th>2</th>\n",
       "      <td>3</td>\n",
       "      <td>1</td>\n",
       "      <td>12882.60</td>\n",
       "      <td>381205.68</td>\n",
       "      <td>0</td>\n",
       "    </tr>\n",
       "    <tr>\n",
       "      <th>3</th>\n",
       "      <td>4</td>\n",
       "      <td>1</td>\n",
       "      <td>6351.00</td>\n",
       "      <td>428453.88</td>\n",
       "      <td>0</td>\n",
       "    </tr>\n",
       "    <tr>\n",
       "      <th>4</th>\n",
       "      <td>5</td>\n",
       "      <td>1</td>\n",
       "      <td>9427.92</td>\n",
       "      <td>461562.00</td>\n",
       "      <td>0</td>\n",
       "    </tr>\n",
       "  </tbody>\n",
       "</table>\n",
       "</div>"
      ],
      "text/plain": [
       "   Index  Employed  Bank Balance  Annual Salary  Defaulted?\n",
       "0      1         1       8754.36      532339.56           0\n",
       "1      2         0       9806.16      145273.56           0\n",
       "2      3         1      12882.60      381205.68           0\n",
       "3      4         1       6351.00      428453.88           0\n",
       "4      5         1       9427.92      461562.00           0"
      ]
     },
     "execution_count": 3,
     "metadata": {},
     "output_type": "execute_result"
    }
   ],
   "source": [
    "default.head()"
   ]
  },
  {
   "cell_type": "code",
   "execution_count": 4,
   "id": "d4001609",
   "metadata": {},
   "outputs": [
    {
     "data": {
      "text/plain": [
       "(10000, 5)"
      ]
     },
     "execution_count": 4,
     "metadata": {},
     "output_type": "execute_result"
    }
   ],
   "source": [
    "default.shape"
   ]
  },
  {
   "cell_type": "code",
   "execution_count": 5,
   "id": "0ea8bf72",
   "metadata": {},
   "outputs": [],
   "source": [
    "default = default.drop(['Index'],axis=1)"
   ]
  },
  {
   "cell_type": "code",
   "execution_count": 6,
   "id": "a0d6f60c",
   "metadata": {},
   "outputs": [
    {
     "data": {
      "text/html": [
       "<div>\n",
       "<style scoped>\n",
       "    .dataframe tbody tr th:only-of-type {\n",
       "        vertical-align: middle;\n",
       "    }\n",
       "\n",
       "    .dataframe tbody tr th {\n",
       "        vertical-align: top;\n",
       "    }\n",
       "\n",
       "    .dataframe thead th {\n",
       "        text-align: right;\n",
       "    }\n",
       "</style>\n",
       "<table border=\"1\" class=\"dataframe\">\n",
       "  <thead>\n",
       "    <tr style=\"text-align: right;\">\n",
       "      <th></th>\n",
       "      <th>Employed</th>\n",
       "      <th>Bank Balance</th>\n",
       "      <th>Annual Salary</th>\n",
       "      <th>Defaulted?</th>\n",
       "    </tr>\n",
       "  </thead>\n",
       "  <tbody>\n",
       "    <tr>\n",
       "      <th>count</th>\n",
       "      <td>10000.00</td>\n",
       "      <td>10000.00</td>\n",
       "      <td>10000.00</td>\n",
       "      <td>10000.00</td>\n",
       "    </tr>\n",
       "    <tr>\n",
       "      <th>mean</th>\n",
       "      <td>0.71</td>\n",
       "      <td>10024.50</td>\n",
       "      <td>402203.78</td>\n",
       "      <td>0.03</td>\n",
       "    </tr>\n",
       "    <tr>\n",
       "      <th>std</th>\n",
       "      <td>0.46</td>\n",
       "      <td>5804.58</td>\n",
       "      <td>160039.67</td>\n",
       "      <td>0.18</td>\n",
       "    </tr>\n",
       "    <tr>\n",
       "      <th>min</th>\n",
       "      <td>0.00</td>\n",
       "      <td>0.00</td>\n",
       "      <td>9263.64</td>\n",
       "      <td>0.00</td>\n",
       "    </tr>\n",
       "    <tr>\n",
       "      <th>25%</th>\n",
       "      <td>0.00</td>\n",
       "      <td>5780.79</td>\n",
       "      <td>256085.52</td>\n",
       "      <td>0.00</td>\n",
       "    </tr>\n",
       "    <tr>\n",
       "      <th>50%</th>\n",
       "      <td>1.00</td>\n",
       "      <td>9883.62</td>\n",
       "      <td>414631.74</td>\n",
       "      <td>0.00</td>\n",
       "    </tr>\n",
       "    <tr>\n",
       "      <th>75%</th>\n",
       "      <td>1.00</td>\n",
       "      <td>13995.66</td>\n",
       "      <td>525692.76</td>\n",
       "      <td>0.00</td>\n",
       "    </tr>\n",
       "    <tr>\n",
       "      <th>max</th>\n",
       "      <td>1.00</td>\n",
       "      <td>31851.84</td>\n",
       "      <td>882650.76</td>\n",
       "      <td>1.00</td>\n",
       "    </tr>\n",
       "  </tbody>\n",
       "</table>\n",
       "</div>"
      ],
      "text/plain": [
       "       Employed  Bank Balance  Annual Salary  Defaulted?\n",
       "count  10000.00      10000.00       10000.00    10000.00\n",
       "mean       0.71      10024.50      402203.78        0.03\n",
       "std        0.46       5804.58      160039.67        0.18\n",
       "min        0.00          0.00        9263.64        0.00\n",
       "25%        0.00       5780.79      256085.52        0.00\n",
       "50%        1.00       9883.62      414631.74        0.00\n",
       "75%        1.00      13995.66      525692.76        0.00\n",
       "max        1.00      31851.84      882650.76        1.00"
      ]
     },
     "execution_count": 6,
     "metadata": {},
     "output_type": "execute_result"
    }
   ],
   "source": [
    "np.round(default.describe(),2)"
   ]
  },
  {
   "cell_type": "code",
   "execution_count": 7,
   "id": "9f2d2caa",
   "metadata": {},
   "outputs": [
    {
     "data": {
      "image/png": "[encoded data removed]",
      "text/plain": [
       "<Figure size 1080x288 with 2 Axes>"
      ]
     },
     "metadata": {
      "needs_background": "light"
     },
     "output_type": "display_data"
    }
   ],
   "source": [
    "plt.figure(figsize=(15,4))\n",
    "plt.subplot(1,2,1)\n",
    "sns.boxplot(y=default['Bank Balance'])\n",
    "plt.subplot(1,2,2)\n",
    "sns.boxplot(y=default['Annual Salary'])\n",
    "plt.show()"
   ]
  },
  {
   "cell_type": "code",
   "execution_count": 8,
   "id": "4590e39c",
   "metadata": {},
   "outputs": [
    {
     "data": {
      "image/png": "[encoded data removed]",
      "text/plain": [
       "<Figure size 1080x288 with 2 Axes>"
      ]
     },
     "metadata": {
      "needs_background": "light"
     },
     "output_type": "display_data"
    }
   ],
   "source": [
    "plt.figure(figsize=(15,4))\n",
    "plt.subplot(1,2,1)\n",
    "sns.countplot(default['Employed'])\n",
    "plt.subplot(1,2,2)\n",
    "sns.countplot(default['Defaulted?'])\n",
    "plt.show()"
   ]
  },
  {
   "cell_type": "code",
   "execution_count": 9,
   "id": "af233c30",
   "metadata": {},
   "outputs": [
    {
     "data": {
      "text/plain": [
       "1    7056\n",
       "0    2944\n",
       "Name: Employed, dtype: int64"
      ]
     },
     "execution_count": 9,
     "metadata": {},
     "output_type": "execute_result"
    }
   ],
   "source": [
    "default['Employed'].value_counts()"
   ]
  },
  {
   "cell_type": "code",
   "execution_count": 10,
   "id": "5f7ee1ea",
   "metadata": {},
   "outputs": [
    {
     "data": {
      "text/plain": [
       "0    9667\n",
       "1     333\n",
       "Name: Defaulted?, dtype: int64"
      ]
     },
     "execution_count": 10,
     "metadata": {},
     "output_type": "execute_result"
    }
   ],
   "source": [
    "default['Defaulted?'].value_counts()"
   ]
  },
  {
   "cell_type": "code",
   "execution_count": 11,
   "id": "6a873432",
   "metadata": {},
   "outputs": [
    {
     "data": {
      "text/plain": [
       "1    0.7056\n",
       "0    0.2944\n",
       "Name: Employed, dtype: float64"
      ]
     },
     "execution_count": 11,
     "metadata": {},
     "output_type": "execute_result"
    }
   ],
   "source": [
    "default['Employed'].value_counts(normalize=True)"
   ]
  },
  {
   "cell_type": "code",
   "execution_count": 12,
   "id": "b6b70e5d",
   "metadata": {},
   "outputs": [
    {
     "data": {
      "text/plain": [
       "0    0.9667\n",
       "1    0.0333\n",
       "Name: Defaulted?, dtype: float64"
      ]
     },
     "execution_count": 12,
     "metadata": {},
     "output_type": "execute_result"
    }
   ],
   "source": [
    "default['Defaulted?'].value_counts(normalize=True)"
   ]
  },
  {
   "cell_type": "markdown",
   "id": "ff502442",
   "metadata": {},
   "source": [
    "### Bivariate Analyze"
   ]
  },
  {
   "cell_type": "code",
   "execution_count": 13,
   "id": "86be3c1d",
   "metadata": {},
   "outputs": [
    {
     "data": {
      "text/plain": [
       "<AxesSubplot:xlabel='Defaulted?', ylabel='Annual Salary'>"
      ]
     },
     "execution_count": 13,
     "metadata": {},
     "output_type": "execute_result"
    },
    {
     "data": {
      "image/png": "[encoded data removed]",
      "text/plain": [
       "<Figure size 1080x504 with 2 Axes>"
      ]
     },
     "metadata": {
      "needs_background": "light"
     },
     "output_type": "display_data"
    }
   ],
   "source": [
    "plt.figure(figsize=(15,7))\n",
    "plt.subplot(1,2,1)\n",
    "sns.boxplot(default['Defaulted?'],default['Bank Balance'])\n",
    "plt.subplot(1,2,2)\n",
    "sns.boxplot(default['Defaulted?'],default['Annual Salary'])"
   ]
  },
  {
   "cell_type": "code",
   "execution_count": 14,
   "id": "33d39a30",
   "metadata": {},
   "outputs": [
    {
     "data": {
      "text/html": [
       "<div>\n",
       "<style scoped>\n",
       "    .dataframe tbody tr th:only-of-type {\n",
       "        vertical-align: middle;\n",
       "    }\n",
       "\n",
       "    .dataframe tbody tr th {\n",
       "        vertical-align: top;\n",
       "    }\n",
       "\n",
       "    .dataframe thead th {\n",
       "        text-align: right;\n",
       "    }\n",
       "</style>\n",
       "<table border=\"1\" class=\"dataframe\">\n",
       "  <thead>\n",
       "    <tr style=\"text-align: right;\">\n",
       "      <th>Defaulted?</th>\n",
       "      <th>0</th>\n",
       "      <th>1</th>\n",
       "    </tr>\n",
       "    <tr>\n",
       "      <th>Employed</th>\n",
       "      <th></th>\n",
       "      <th></th>\n",
       "    </tr>\n",
       "  </thead>\n",
       "  <tbody>\n",
       "    <tr>\n",
       "      <th>0</th>\n",
       "      <td>0.96</td>\n",
       "      <td>0.04</td>\n",
       "    </tr>\n",
       "    <tr>\n",
       "      <th>1</th>\n",
       "      <td>0.97</td>\n",
       "      <td>0.03</td>\n",
       "    </tr>\n",
       "  </tbody>\n",
       "</table>\n",
       "</div>"
      ],
      "text/plain": [
       "Defaulted?     0     1\n",
       "Employed              \n",
       "0           0.96  0.04\n",
       "1           0.97  0.03"
      ]
     },
     "execution_count": 14,
     "metadata": {},
     "output_type": "execute_result"
    }
   ],
   "source": [
    "pd.crosstab(default['Employed'], default['Defaulted?'], normalize='index').round(2)"
   ]
  },
  {
   "cell_type": "code",
   "execution_count": 15,
   "id": "8c9ac8b5",
   "metadata": {},
   "outputs": [
    {
     "data": {
      "text/plain": [
       "<AxesSubplot:>"
      ]
     },
     "execution_count": 15,
     "metadata": {},
     "output_type": "execute_result"
    },
    {
     "data": {
      "image/png": "[encoded data removed]",
      "text/plain": [
       "<Figure size 432x288 with 2 Axes>"
      ]
     },
     "metadata": {
      "needs_background": "light"
     },
     "output_type": "display_data"
    }
   ],
   "source": [
    "sns.heatmap(np.round(default[['Bank Balance','Annual Salary']].corr(),2), annot=True)"
   ]
  },
  {
   "cell_type": "code",
   "execution_count": 16,
   "id": "42691216",
   "metadata": {},
   "outputs": [
    {
     "data": {
      "text/plain": [
       "Employed         0\n",
       "Bank Balance     0\n",
       "Annual Salary    0\n",
       "Defaulted?       0\n",
       "dtype: int64"
      ]
     },
     "execution_count": 16,
     "metadata": {},
     "output_type": "execute_result"
    }
   ],
   "source": [
    "default.isna().sum()"
   ]
  },
  {
   "cell_type": "markdown",
   "id": "21db151d",
   "metadata": {},
   "source": [
    "### Treating with the outliers"
   ]
  },
  {
   "cell_type": "code",
   "execution_count": 17,
   "id": "30f72f73",
   "metadata": {},
   "outputs": [],
   "source": [
    "Q1,Q3 = default['Bank Balance'].quantile([.25,.75])\n",
    "IQR = Q3-Q1\n",
    "LL = Q1-1.5*(IQR)\n",
    "UL = Q3+1.5*(IQR)"
   ]
  },
  {
   "cell_type": "code",
   "execution_count": 18,
   "id": "15683924",
   "metadata": {},
   "outputs": [
    {
     "data": {
      "text/plain": [
       "-6541.5149999999985"
      ]
     },
     "execution_count": 18,
     "metadata": {},
     "output_type": "execute_result"
    }
   ],
   "source": [
    "LL"
   ]
  },
  {
   "cell_type": "code",
   "execution_count": 19,
   "id": "75f747d6",
   "metadata": {},
   "outputs": [
    {
     "data": {
      "text/plain": [
       "26317.964999999997"
      ]
     },
     "execution_count": 19,
     "metadata": {},
     "output_type": "execute_result"
    }
   ],
   "source": [
    "UL"
   ]
  },
  {
   "cell_type": "code",
   "execution_count": 20,
   "id": "156f075f",
   "metadata": {},
   "outputs": [
    {
     "data": {
      "text/html": [
       "<div>\n",
       "<style scoped>\n",
       "    .dataframe tbody tr th:only-of-type {\n",
       "        vertical-align: middle;\n",
       "    }\n",
       "\n",
       "    .dataframe tbody tr th {\n",
       "        vertical-align: top;\n",
       "    }\n",
       "\n",
       "    .dataframe thead th {\n",
       "        text-align: right;\n",
       "    }\n",
       "</style>\n",
       "<table border=\"1\" class=\"dataframe\">\n",
       "  <thead>\n",
       "    <tr style=\"text-align: right;\">\n",
       "      <th></th>\n",
       "      <th>Employed</th>\n",
       "      <th>Bank Balance</th>\n",
       "      <th>Annual Salary</th>\n",
       "      <th>Defaulted?</th>\n",
       "    </tr>\n",
       "  </thead>\n",
       "  <tbody>\n",
       "    <tr>\n",
       "      <th>173</th>\n",
       "      <td>0</td>\n",
       "      <td>26469.60</td>\n",
       "      <td>171257.88</td>\n",
       "      <td>1</td>\n",
       "    </tr>\n",
       "    <tr>\n",
       "      <th>1136</th>\n",
       "      <td>1</td>\n",
       "      <td>29988.24</td>\n",
       "      <td>618051.48</td>\n",
       "      <td>1</td>\n",
       "    </tr>\n",
       "    <tr>\n",
       "      <th>1160</th>\n",
       "      <td>0</td>\n",
       "      <td>30032.16</td>\n",
       "      <td>179370.24</td>\n",
       "      <td>1</td>\n",
       "    </tr>\n",
       "    <tr>\n",
       "      <th>1359</th>\n",
       "      <td>1</td>\n",
       "      <td>26651.64</td>\n",
       "      <td>488701.20</td>\n",
       "      <td>1</td>\n",
       "    </tr>\n",
       "    <tr>\n",
       "      <th>1502</th>\n",
       "      <td>0</td>\n",
       "      <td>27994.56</td>\n",
       "      <td>141242.76</td>\n",
       "      <td>1</td>\n",
       "    </tr>\n",
       "    <tr>\n",
       "      <th>1609</th>\n",
       "      <td>0</td>\n",
       "      <td>27239.40</td>\n",
       "      <td>216253.32</td>\n",
       "      <td>1</td>\n",
       "    </tr>\n",
       "    <tr>\n",
       "      <th>2096</th>\n",
       "      <td>0</td>\n",
       "      <td>27142.20</td>\n",
       "      <td>240362.04</td>\n",
       "      <td>1</td>\n",
       "    </tr>\n",
       "    <tr>\n",
       "      <th>2140</th>\n",
       "      <td>0</td>\n",
       "      <td>27706.68</td>\n",
       "      <td>229323.24</td>\n",
       "      <td>0</td>\n",
       "    </tr>\n",
       "    <tr>\n",
       "      <th>2929</th>\n",
       "      <td>0</td>\n",
       "      <td>28647.72</td>\n",
       "      <td>339562.92</td>\n",
       "      <td>1</td>\n",
       "    </tr>\n",
       "    <tr>\n",
       "      <th>3162</th>\n",
       "      <td>0</td>\n",
       "      <td>28983.84</td>\n",
       "      <td>209154.00</td>\n",
       "      <td>1</td>\n",
       "    </tr>\n",
       "    <tr>\n",
       "      <th>3189</th>\n",
       "      <td>1</td>\n",
       "      <td>26741.64</td>\n",
       "      <td>329260.20</td>\n",
       "      <td>1</td>\n",
       "    </tr>\n",
       "    <tr>\n",
       "      <th>3702</th>\n",
       "      <td>0</td>\n",
       "      <td>28445.52</td>\n",
       "      <td>291023.52</td>\n",
       "      <td>0</td>\n",
       "    </tr>\n",
       "    <tr>\n",
       "      <th>3855</th>\n",
       "      <td>0</td>\n",
       "      <td>27862.56</td>\n",
       "      <td>255975.72</td>\n",
       "      <td>1</td>\n",
       "    </tr>\n",
       "    <tr>\n",
       "      <th>3913</th>\n",
       "      <td>0</td>\n",
       "      <td>28009.44</td>\n",
       "      <td>232030.68</td>\n",
       "      <td>1</td>\n",
       "    </tr>\n",
       "    <tr>\n",
       "      <th>3976</th>\n",
       "      <td>0</td>\n",
       "      <td>28658.04</td>\n",
       "      <td>93985.68</td>\n",
       "      <td>0</td>\n",
       "    </tr>\n",
       "    <tr>\n",
       "      <th>4060</th>\n",
       "      <td>0</td>\n",
       "      <td>26592.24</td>\n",
       "      <td>250940.40</td>\n",
       "      <td>1</td>\n",
       "    </tr>\n",
       "    <tr>\n",
       "      <th>4231</th>\n",
       "      <td>0</td>\n",
       "      <td>27499.44</td>\n",
       "      <td>250046.52</td>\n",
       "      <td>1</td>\n",
       "    </tr>\n",
       "    <tr>\n",
       "      <th>4831</th>\n",
       "      <td>0</td>\n",
       "      <td>26595.96</td>\n",
       "      <td>296844.96</td>\n",
       "      <td>0</td>\n",
       "    </tr>\n",
       "    <tr>\n",
       "      <th>5461</th>\n",
       "      <td>0</td>\n",
       "      <td>26969.04</td>\n",
       "      <td>215120.64</td>\n",
       "      <td>1</td>\n",
       "    </tr>\n",
       "    <tr>\n",
       "      <th>6075</th>\n",
       "      <td>1</td>\n",
       "      <td>28959.84</td>\n",
       "      <td>462486.84</td>\n",
       "      <td>1</td>\n",
       "    </tr>\n",
       "    <tr>\n",
       "      <th>6334</th>\n",
       "      <td>1</td>\n",
       "      <td>28125.60</td>\n",
       "      <td>613143.48</td>\n",
       "      <td>1</td>\n",
       "    </tr>\n",
       "    <tr>\n",
       "      <th>6882</th>\n",
       "      <td>0</td>\n",
       "      <td>27446.04</td>\n",
       "      <td>224305.68</td>\n",
       "      <td>1</td>\n",
       "    </tr>\n",
       "    <tr>\n",
       "      <th>7437</th>\n",
       "      <td>0</td>\n",
       "      <td>29538.12</td>\n",
       "      <td>142542.72</td>\n",
       "      <td>1</td>\n",
       "    </tr>\n",
       "    <tr>\n",
       "      <th>7815</th>\n",
       "      <td>0</td>\n",
       "      <td>30941.64</td>\n",
       "      <td>308479.80</td>\n",
       "      <td>1</td>\n",
       "    </tr>\n",
       "    <tr>\n",
       "      <th>8264</th>\n",
       "      <td>1</td>\n",
       "      <td>26841.12</td>\n",
       "      <td>445366.56</td>\n",
       "      <td>1</td>\n",
       "    </tr>\n",
       "    <tr>\n",
       "      <th>8495</th>\n",
       "      <td>0</td>\n",
       "      <td>31851.84</td>\n",
       "      <td>263164.68</td>\n",
       "      <td>1</td>\n",
       "    </tr>\n",
       "    <tr>\n",
       "      <th>8832</th>\n",
       "      <td>0</td>\n",
       "      <td>26491.20</td>\n",
       "      <td>237369.12</td>\n",
       "      <td>1</td>\n",
       "    </tr>\n",
       "    <tr>\n",
       "      <th>8992</th>\n",
       "      <td>0</td>\n",
       "      <td>28224.60</td>\n",
       "      <td>288810.60</td>\n",
       "      <td>1</td>\n",
       "    </tr>\n",
       "    <tr>\n",
       "      <th>9873</th>\n",
       "      <td>1</td>\n",
       "      <td>28692.12</td>\n",
       "      <td>603634.92</td>\n",
       "      <td>0</td>\n",
       "    </tr>\n",
       "    <tr>\n",
       "      <th>9893</th>\n",
       "      <td>1</td>\n",
       "      <td>27460.92</td>\n",
       "      <td>624522.84</td>\n",
       "      <td>1</td>\n",
       "    </tr>\n",
       "    <tr>\n",
       "      <th>9978</th>\n",
       "      <td>1</td>\n",
       "      <td>26429.52</td>\n",
       "      <td>567447.12</td>\n",
       "      <td>1</td>\n",
       "    </tr>\n",
       "  </tbody>\n",
       "</table>\n",
       "</div>"
      ],
      "text/plain": [
       "      Employed  Bank Balance  Annual Salary  Defaulted?\n",
       "173          0      26469.60      171257.88           1\n",
       "1136         1      29988.24      618051.48           1\n",
       "1160         0      30032.16      179370.24           1\n",
       "1359         1      26651.64      488701.20           1\n",
       "1502         0      27994.56      141242.76           1\n",
       "1609         0      27239.40      216253.32           1\n",
       "2096         0      27142.20      240362.04           1\n",
       "2140         0      27706.68      229323.24           0\n",
       "2929         0      28647.72      339562.92           1\n",
       "3162         0      28983.84      209154.00           1\n",
       "3189         1      26741.64      329260.20           1\n",
       "3702         0      28445.52      291023.52           0\n",
       "3855         0      27862.56      255975.72           1\n",
       "3913         0      28009.44      232030.68           1\n",
       "3976         0      28658.04       93985.68           0\n",
       "4060         0      26592.24      250940.40           1\n",
       "4231         0      27499.44      250046.52           1\n",
       "4831         0      26595.96      296844.96           0\n",
       "5461         0      26969.04      215120.64           1\n",
       "6075         1      28959.84      462486.84           1\n",
       "6334         1      28125.60      613143.48           1\n",
       "6882         0      27446.04      224305.68           1\n",
       "7437         0      29538.12      142542.72           1\n",
       "7815         0      30941.64      308479.80           1\n",
       "8264         1      26841.12      445366.56           1\n",
       "8495         0      31851.84      263164.68           1\n",
       "8832         0      26491.20      237369.12           1\n",
       "8992         0      28224.60      288810.60           1\n",
       "9873         1      28692.12      603634.92           0\n",
       "9893         1      27460.92      624522.84           1\n",
       "9978         1      26429.52      567447.12           1"
      ]
     },
     "execution_count": 20,
     "metadata": {},
     "output_type": "execute_result"
    }
   ],
   "source": [
    "df = default[default['Bank Balance']>UL]\n",
    "df"
   ]
  },
  {
   "cell_type": "code",
   "execution_count": 21,
   "id": "24f4d226",
   "metadata": {},
   "outputs": [
    {
     "data": {
      "text/plain": [
       "31"
      ]
     },
     "execution_count": 21,
     "metadata": {},
     "output_type": "execute_result"
    }
   ],
   "source": [
    "df['Bank Balance'].count()"
   ]
  },
  {
   "cell_type": "code",
   "execution_count": 22,
   "id": "78420185",
   "metadata": {},
   "outputs": [
    {
     "data": {
      "text/plain": [
       "1    0.83871\n",
       "0    0.16129\n",
       "Name: Defaulted?, dtype: float64"
      ]
     },
     "execution_count": 22,
     "metadata": {},
     "output_type": "execute_result"
    }
   ],
   "source": [
    "df['Defaulted?'].value_counts(normalize=True)"
   ]
  },
  {
   "cell_type": "code",
   "execution_count": 23,
   "id": "f4774c12",
   "metadata": {},
   "outputs": [
    {
     "data": {
      "text/plain": [
       "1    26\n",
       "0     5\n",
       "Name: Defaulted?, dtype: int64"
      ]
     },
     "execution_count": 23,
     "metadata": {},
     "output_type": "execute_result"
    }
   ],
   "source": [
    "df['Defaulted?'].value_counts()"
   ]
  },
  {
   "cell_type": "code",
   "execution_count": 24,
   "id": "efaedc26",
   "metadata": {},
   "outputs": [],
   "source": [
    "default['Bank Balance'] = np.where(default['Bank Balance'] > UL, UL, default['Bank Balance'])"
   ]
  },
  {
   "cell_type": "code",
   "execution_count": 25,
   "id": "a0cd20c0",
   "metadata": {},
   "outputs": [
    {
     "data": {
      "text/plain": [
       "<AxesSubplot:xlabel='Annual Salary'>"
      ]
     },
     "execution_count": 25,
     "metadata": {},
     "output_type": "execute_result"
    },
    {
     "data": {
      "image/png": "[encoded data removed]",
      "text/plain": [
       "<Figure size 432x288 with 1 Axes>"
      ]
     },
     "metadata": {
      "needs_background": "light"
     },
     "output_type": "display_data"
    }
   ],
   "source": [
    "sns.boxplot(default['Annual Salary'])"
   ]
  },
  {
   "cell_type": "code",
   "execution_count": 26,
   "id": "bd421c88",
   "metadata": {},
   "outputs": [
    {
     "data": {
      "text/html": [
       "<div>\n",
       "<style scoped>\n",
       "    .dataframe tbody tr th:only-of-type {\n",
       "        vertical-align: middle;\n",
       "    }\n",
       "\n",
       "    .dataframe tbody tr th {\n",
       "        vertical-align: top;\n",
       "    }\n",
       "\n",
       "    .dataframe thead th {\n",
       "        text-align: right;\n",
       "    }\n",
       "</style>\n",
       "<table border=\"1\" class=\"dataframe\">\n",
       "  <thead>\n",
       "    <tr style=\"text-align: right;\">\n",
       "      <th></th>\n",
       "      <th>Employed</th>\n",
       "      <th>Bank Balance</th>\n",
       "      <th>Annual Salary</th>\n",
       "      <th>Defaulted?</th>\n",
       "    </tr>\n",
       "  </thead>\n",
       "  <tbody>\n",
       "    <tr>\n",
       "      <th>0</th>\n",
       "      <td>1</td>\n",
       "      <td>8754.36</td>\n",
       "      <td>532339.56</td>\n",
       "      <td>0</td>\n",
       "    </tr>\n",
       "    <tr>\n",
       "      <th>1</th>\n",
       "      <td>0</td>\n",
       "      <td>9806.16</td>\n",
       "      <td>145273.56</td>\n",
       "      <td>0</td>\n",
       "    </tr>\n",
       "  </tbody>\n",
       "</table>\n",
       "</div>"
      ],
      "text/plain": [
       "   Employed  Bank Balance  Annual Salary  Defaulted?\n",
       "0         1       8754.36      532339.56           0\n",
       "1         0       9806.16      145273.56           0"
      ]
     },
     "execution_count": 26,
     "metadata": {},
     "output_type": "execute_result"
    }
   ],
   "source": [
    "default.head(2)"
   ]
  },
  {
   "cell_type": "code",
   "execution_count": 27,
   "id": "eb8e586d",
   "metadata": {},
   "outputs": [],
   "source": [
    "x = default.drop(['Defaulted?'],axis=1)\n",
    "y = default['Defaulted?']"
   ]
  },
  {
   "cell_type": "code",
   "execution_count": 28,
   "id": "e1a9adbc",
   "metadata": {},
   "outputs": [
    {
     "data": {
      "text/plain": [
       "0       0\n",
       "1       0\n",
       "2       0\n",
       "3       0\n",
       "4       0\n",
       "       ..\n",
       "9995    0\n",
       "9996    0\n",
       "9997    0\n",
       "9998    0\n",
       "9999    0\n",
       "Name: Defaulted?, Length: 10000, dtype: int64"
      ]
     },
     "execution_count": 28,
     "metadata": {},
     "output_type": "execute_result"
    }
   ],
   "source": [
    "y"
   ]
  },
  {
   "cell_type": "code",
   "execution_count": 29,
   "id": "18952fbf",
   "metadata": {},
   "outputs": [],
   "source": [
    "from sklearn.model_selection import train_test_split\n",
    "x_train,x_test,y_train,y_test = train_test_split(x,y,test_size=.25, random_state=32)"
   ]
  },
  {
   "cell_type": "code",
   "execution_count": 30,
   "id": "9418ba57",
   "metadata": {},
   "outputs": [
    {
     "name": "stdout",
     "output_type": "stream",
     "text": [
      "(7500, 3)\n",
      "(2500, 3)\n"
     ]
    }
   ],
   "source": [
    "print(x_train.shape)\n",
    "print(x_test.shape)"
   ]
  },
  {
   "cell_type": "code",
   "execution_count": 31,
   "id": "1b31fe50",
   "metadata": {},
   "outputs": [
    {
     "name": "stdout",
     "output_type": "stream",
     "text": [
      "0    0.9644\n",
      "1    0.0356\n",
      "Name: Defaulted?, dtype: float64\n",
      "0    0.9736\n",
      "1    0.0264\n",
      "Name: Defaulted?, dtype: float64\n"
     ]
    }
   ],
   "source": [
    "print(y_train.value_counts(normalize=True))\n",
    "print(y_test.value_counts(normalize=True))"
   ]
  },
  {
   "cell_type": "code",
   "execution_count": 32,
   "id": "c4ddfca3",
   "metadata": {},
   "outputs": [],
   "source": [
    "from imblearn.over_sampling import SMOTE\n",
    "sm = SMOTE(random_state=33, sampling_strategy=0.75)\n",
    "x_res,y_res = sm.fit_resample(x_train,y_train)"
   ]
  },
  {
   "cell_type": "code",
   "execution_count": 33,
   "id": "b95a2fb8",
   "metadata": {},
   "outputs": [
    {
     "data": {
      "text/html": [
       "<style>#sk-container-id-1 {color: black;background-color: white;}#sk-container-id-1 pre{padding: 0;}#sk-container-id-1 div.sk-toggleable {background-color: white;}#sk-container-id-1 label.sk-toggleable__label {cursor: pointer;display: block;width: 100%;margin-bottom: 0;padding: 0.3em;box-sizing: border-box;text-align: center;}#sk-container-id-1 label.sk-toggleable__label-arrow:before {content: \"▸\";float: left;margin-right: 0.25em;color: #696969;}#sk-container-id-1 label.sk-toggleable__label-arrow:hover:before {color: black;}#sk-container-id-1 div.sk-estimator:hover label.sk-toggleable__label-arrow:before {color: black;}#sk-container-id-1 div.sk-toggleable__content {max-height: 0;max-width: 0;overflow: hidden;text-align: left;background-color: #f0f8ff;}#sk-container-id-1 div.sk-toggleable__content pre {margin: 0.2em;color: black;border-radius: 0.25em;background-color: #f0f8ff;}#sk-container-id-1 input.sk-toggleable__control:checked~div.sk-toggleable__content {max-height: 200px;max-width: 100%;overflow: auto;}#sk-container-id-1 input.sk-toggleable__control:checked~label.sk-toggleable__label-arrow:before {content: \"▾\";}#sk-container-id-1 div.sk-estimator input.sk-toggleable__control:checked~label.sk-toggleable__label {background-color: #d4ebff;}#sk-container-id-1 div.sk-label input.sk-toggleable__control:checked~label.sk-toggleable__label {background-color: #d4ebff;}#sk-container-id-1 input.sk-hidden--visually {border: 0;clip: rect(1px 1px 1px 1px);clip: rect(1px, 1px, 1px, 1px);height: 1px;margin: -1px;overflow: hidden;padding: 0;position: absolute;width: 1px;}#sk-container-id-1 div.sk-estimator {font-family: monospace;background-color: #f0f8ff;border: 1px dotted black;border-radius: 0.25em;box-sizing: border-box;margin-bottom: 0.5em;}#sk-container-id-1 div.sk-estimator:hover {background-color: #d4ebff;}#sk-container-id-1 div.sk-parallel-item::after {content: \"\";width: 100%;border-bottom: 1px solid gray;flex-grow: 1;}#sk-container-id-1 div.sk-label:hover label.sk-toggleable__label {background-color: #d4ebff;}#sk-container-id-1 div.sk-serial::before {content: \"\";position: absolute;border-left: 1px solid gray;box-sizing: border-box;top: 0;bottom: 0;left: 50%;z-index: 0;}#sk-container-id-1 div.sk-serial {display: flex;flex-direction: column;align-items: center;background-color: white;padding-right: 0.2em;padding-left: 0.2em;position: relative;}#sk-container-id-1 div.sk-item {position: relative;z-index: 1;}#sk-container-id-1 div.sk-parallel {display: flex;align-items: stretch;justify-content: center;background-color: white;position: relative;}#sk-container-id-1 div.sk-item::before, #sk-container-id-1 div.sk-parallel-item::before {content: \"\";position: absolute;border-left: 1px solid gray;box-sizing: border-box;top: 0;bottom: 0;left: 50%;z-index: -1;}#sk-container-id-1 div.sk-parallel-item {display: flex;flex-direction: column;z-index: 1;position: relative;background-color: white;}#sk-container-id-1 div.sk-parallel-item:first-child::after {align-self: flex-end;width: 50%;}#sk-container-id-1 div.sk-parallel-item:last-child::after {align-self: flex-start;width: 50%;}#sk-container-id-1 div.sk-parallel-item:only-child::after {width: 0;}#sk-container-id-1 div.sk-dashed-wrapped {border: 1px dashed gray;margin: 0 0.4em 0.5em 0.4em;box-sizing: border-box;padding-bottom: 0.4em;background-color: white;}#sk-container-id-1 div.sk-label label {font-family: monospace;font-weight: bold;display: inline-block;line-height: 1.2em;}#sk-container-id-1 div.sk-label-container {text-align: center;}#sk-container-id-1 div.sk-container {/* jupyter's `normalize.less` sets `[hidden] { display: none; }` but bootstrap.min.css set `[hidden] { display: none !important; }` so we also need the `!important` here to be able to override the default hidden behavior on the sphinx rendered scikit-learn.org. See: https://github.com/scikit-learn/scikit-learn/issues/21755 */display: inline-block !important;position: relative;}#sk-container-id-1 div.sk-text-repr-fallback {display: none;}</style><div id=\"sk-container-id-1\" class=\"sk-top-container\"><div class=\"sk-text-repr-fallback\"><pre>LogisticRegression()</pre><b>In a Jupyter environment, please rerun this cell to show the HTML representation or trust the notebook. <br />On GitHub, the HTML representation is unable to render, please try loading this page with nbviewer.org.</b></div><div class=\"sk-container\" hidden><div class=\"sk-item\"><div class=\"sk-estimator sk-toggleable\"><input class=\"sk-toggleable__control sk-hidden--visually\" id=\"sk-estimator-id-1\" type=\"checkbox\" checked><label for=\"sk-estimator-id-1\" class=\"sk-toggleable__label sk-toggleable__label-arrow\">LogisticRegression</label><div class=\"sk-toggleable__content\"><pre>LogisticRegression()</pre></div></div></div></div></div>"
      ],
      "text/plain": [
       "LogisticRegression()"
      ]
     },
     "execution_count": 33,
     "metadata": {},
     "output_type": "execute_result"
    }
   ],
   "source": [
    "from sklearn.linear_model import LogisticRegression\n",
    "lr = LogisticRegression()\n",
    "lr.fit(x_res,y_res)"
   ]
  },
  {
   "cell_type": "code",
   "execution_count": 34,
   "id": "3a833130",
   "metadata": {},
   "outputs": [
    {
     "data": {
      "text/plain": [
       "0.7184"
      ]
     },
     "execution_count": 34,
     "metadata": {},
     "output_type": "execute_result"
    }
   ],
   "source": [
    "from sklearn.metrics import confusion_matrix,accuracy_score, classification_report\n",
    "accuracy_score(y_test,lr.predict(x_test))"
   ]
  },
  {
   "cell_type": "code",
   "execution_count": 35,
   "id": "931ea930",
   "metadata": {},
   "outputs": [
    {
     "data": {
      "text/plain": [
       "array([[1752,  682],\n",
       "       [  22,   44]], dtype=int64)"
      ]
     },
     "execution_count": 35,
     "metadata": {},
     "output_type": "execute_result"
    }
   ],
   "source": [
    "confusion_matrix(y_test,lr.predict(x_test))"
   ]
  }
 ],
 "metadata": {
  "kernelspec": {
   "display_name": "Python 3",
   "language": "python",
   "name": "python3"
  },
  "language_info": {
   "codemirror_mode": {
    "name": "ipython",
    "version": 3
   },
   "file_extension": ".py",
   "mimetype": "text/x-python",
   "name": "python",
   "nbconvert_exporter": "python",
   "pygments_lexer": "ipython3",
   "version": "3.8.8"
  }
 },
 "nbformat": 4,
 "nbformat_minor": 5
}
